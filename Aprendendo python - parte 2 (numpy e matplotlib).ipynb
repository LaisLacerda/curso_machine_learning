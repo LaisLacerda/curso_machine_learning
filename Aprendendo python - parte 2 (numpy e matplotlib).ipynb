{
 "cells": [
  {
   "cell_type": "code",
   "execution_count": 2,
   "metadata": {},
   "outputs": [],
   "source": [
    "# -*- coding: utf-8 -*-\n",
    "\n",
    "import numpy as np"
   ]
  },
  {
   "cell_type": "markdown",
   "metadata": {},
   "source": [
    "<h1>Numpy</h1>\n",
    "<br>\n",
    "Numpy é uma das bibliotecas do python destinados à manipulação de matrizes e cálculo numérico. Grande parte das\n",
    "bibliotecas de aprendizado de máquina do Python tem integração com o Numpy"
   ]
  },
  {
   "cell_type": "code",
   "execution_count": 3,
   "metadata": {},
   "outputs": [
    {
     "name": "stdout",
     "output_type": "stream",
     "text": [
      "Mat 1\n",
      " [[1. 2. 3.]\n",
      " [4. 5. 6.]\n",
      " [7. 8. 9.]]\n",
      "Mat 1 shape (3, 3)\n",
      "Mat 2\n",
      " [[ 3.  7.  3.]\n",
      " [ 5. 12. 35.]\n",
      " [ 3.  9.  2.]]\n",
      "Mat 2 shape (3, 3)\n"
     ]
    }
   ],
   "source": [
    "mat_1 = np.array([[1, 2, 3], [4, 5, 6], [7, 8, 9]], dtype=np.float32)\n",
    "mat_2 = np.array([[3, 7, 3], [5, 12, 35], [3, 9, 2]], dtype=np.float32)\n",
    "\n",
    "print('Mat 1\\n', mat_1)\n",
    "print('Mat 1 shape', np.shape(mat_1))\n",
    "print('Mat 2\\n', mat_2)\n",
    "print('Mat 2 shape', np.shape(mat_2))"
   ]
  },
  {
   "cell_type": "markdown",
   "metadata": {},
   "source": [
    "<h2>Terminologia</h2>\n",
    "<br>Matrizes com apenas uma dimensão são chamadas de arrays"
   ]
  },
  {
   "cell_type": "code",
   "execution_count": 4,
   "metadata": {},
   "outputs": [
    {
     "name": "stdout",
     "output_type": "stream",
     "text": [
      "(3,)\n"
     ]
    }
   ],
   "source": [
    "k = np.array([1,2,3])\n",
    "print(np.shape(k))"
   ]
  },
  {
   "cell_type": "markdown",
   "metadata": {},
   "source": [
    "Matrizes tem duas dimensões"
   ]
  },
  {
   "cell_type": "code",
   "execution_count": 5,
   "metadata": {},
   "outputs": [
    {
     "name": "stdout",
     "output_type": "stream",
     "text": [
      "(3, 2)\n"
     ]
    }
   ],
   "source": [
    "k = np.array([[1, 2],[2, 3],[3, 4]])\n",
    "print(np.shape(k))"
   ]
  },
  {
   "cell_type": "markdown",
   "metadata": {},
   "source": [
    "Matrizes com mais de 2 dimensões são chamadas de <b>Tensores</b>"
   ]
  },
  {
   "cell_type": "code",
   "execution_count": 6,
   "metadata": {},
   "outputs": [
    {
     "name": "stdout",
     "output_type": "stream",
     "text": [
      "(2, 2, 2)\n"
     ]
    }
   ],
   "source": [
    "k = np.array([[[1,2], [3,4]], [[5,6],[7,8]]])\n",
    "print(np.shape(k))"
   ]
  },
  {
   "cell_type": "markdown",
   "metadata": {},
   "source": [
    "Atravez do numpy, podemos facilmente criar matrizes unitárias, identidade, zeradas, ou aleatórias"
   ]
  },
  {
   "cell_type": "code",
   "execution_count": 7,
   "metadata": {},
   "outputs": [
    {
     "name": "stdout",
     "output_type": "stream",
     "text": [
      "[[1. 0. 0.]\n",
      " [0. 1. 0.]\n",
      " [0. 0. 1.]]\n",
      "----\n",
      "[[0. 0. 0. 0.]\n",
      " [0. 0. 0. 0.]\n",
      " [0. 0. 0. 0.]]\n",
      "----\n",
      "[[1. 1. 1. 1.]\n",
      " [1. 1. 1. 1.]\n",
      " [1. 1. 1. 1.]]\n",
      "-----------\n",
      "[[0.8033414  0.8766464  0.71026081 0.87740627]\n",
      " [0.57648173 0.7729375  0.06307541 0.42743948]\n",
      " [0.45195479 0.67899398 0.85045861 0.21593455]]\n"
     ]
    }
   ],
   "source": [
    "a = np.eye(3) #Matriz identidade\n",
    "b = np.zeros((3,4)) #Matriz zerada\n",
    "c = np.ones((3, 4)) #Matriz unitaria\n",
    "\n",
    "print(a)\n",
    "print('----')\n",
    "print(b)\n",
    "print('----')\n",
    "print(c)\n",
    "\n",
    "d = np.random.rand(3,4) #Matriz aleatoria com distribuicao uniforme entre [0,1]\n",
    "print('-----------')\n",
    "print(d)"
   ]
  },
  {
   "cell_type": "markdown",
   "metadata": {},
   "source": [
    "Também é possível criar intervalos facilmente"
   ]
  },
  {
   "cell_type": "code",
   "execution_count": 8,
   "metadata": {},
   "outputs": [
    {
     "name": "stdout",
     "output_type": "stream",
     "text": [
      "[-10.          -7.77777778  -5.55555556  -3.33333333  -1.11111111\n",
      "   1.11111111   3.33333333   5.55555556   7.77777778  10.        ]\n"
     ]
    }
   ],
   "source": [
    "interval = np.linspace(-10, 10, 10)\n",
    "print(interval)"
   ]
  },
  {
   "cell_type": "markdown",
   "metadata": {},
   "source": [
    "Operações com matrizes também são bastante simples"
   ]
  },
  {
   "cell_type": "code",
   "execution_count": 9,
   "metadata": {},
   "outputs": [
    {
     "name": "stdout",
     "output_type": "stream",
     "text": [
      "Mat 1\n",
      " [[1. 2. 3.]\n",
      " [4. 5. 6.]\n",
      " [7. 8. 9.]]\n",
      "Mat 2\n",
      " [[ 3.  7.  3.]\n",
      " [ 5. 12. 35.]\n",
      " [ 3.  9.  2.]]\n",
      "--------\n",
      "Mat mult\n",
      " [[ 22.  58.  79.]\n",
      " [ 55. 142. 199.]\n",
      " [ 88. 226. 319.]]\n",
      "Mat 1 transpose\n",
      " [[ 22.  55.  88.]\n",
      " [ 58. 142. 226.]\n",
      " [ 79. 199. 319.]]\n",
      "Mat 2 inverse\n",
      " [[ 1.6077348  -0.0718232  -1.1546961 ]\n",
      " [-0.5248619   0.01657459  0.49723756]\n",
      " [-0.04972376  0.03314917 -0.00552486]]\n"
     ]
    }
   ],
   "source": [
    "print('Mat 1\\n', mat_1)\n",
    "print('Mat 2\\n', mat_2)\n",
    "\n",
    "print('--------')\n",
    "\n",
    "mat_mul = np.dot(mat_1, mat_2)\n",
    "mat_1_t = np.transpose(mat_mul)\n",
    "inversed = np.linalg.inv(mat_2)\n",
    "\n",
    "print('Mat mult\\n', mat_mul)\n",
    "print('Mat 1 transpose\\n', mat_1_t)\n",
    "print('Mat 2 inverse\\n', inversed)"
   ]
  },
  {
   "cell_type": "markdown",
   "metadata": {},
   "source": [
    "Também é possível facilmente realizar operações com os números dentro de uma matrix"
   ]
  },
  {
   "cell_type": "code",
   "execution_count": 11,
   "metadata": {},
   "outputs": [
    {
     "name": "stdout",
     "output_type": "stream",
     "text": [
      "Soma dos elementos 15\n",
      "Media dos elementos 3.0\n",
      "Variancia dos elementos 2.0\n",
      "Desvio padrado dos elementos 1.4142135623730951\n"
     ]
    }
   ],
   "source": [
    "k = np.array([1,2,3,4,5])\n",
    "\n",
    "print('Soma dos elementos', np.sum(k))\n",
    "print('Media dos elementos', np.mean(k))\n",
    "print('Variancia dos elementos', np.var(k))\n",
    "print('Desvio padrado dos elementos', np.std(k))"
   ]
  },
  {
   "cell_type": "markdown",
   "metadata": {},
   "source": [
    "A função dot, em particular, realiza o produto escalar entre dois arrays"
   ]
  },
  {
   "cell_type": "code",
   "execution_count": 17,
   "metadata": {},
   "outputs": [
    {
     "name": "stdout",
     "output_type": "stream",
     "text": [
      "26\n"
     ]
    }
   ],
   "source": [
    "k1 = np.array([1,2,3])\n",
    "k2 = np.array([3,4,5])\n",
    "\n",
    "print(np.dot(k1, k2))"
   ]
  },
  {
   "cell_type": "markdown",
   "metadata": {},
   "source": [
    "Para realizar a multiplicação termo a termo, utilize a função <b>multiply</b>"
   ]
  },
  {
   "cell_type": "code",
   "execution_count": 19,
   "metadata": {},
   "outputs": [
    {
     "name": "stdout",
     "output_type": "stream",
     "text": [
      "[ 3  8 15]\n"
     ]
    }
   ],
   "source": [
    "k1 = np.array([1,2,3])\n",
    "k2 = np.array([3,4,5])\n",
    "\n",
    "print(np.multiply(k1, k2))"
   ]
  },
  {
   "cell_type": "markdown",
   "metadata": {},
   "source": [
    "<h2>Operações entre arrays que não possuem o mesmo tamanho</h2>"
   ]
  },
  {
   "cell_type": "code",
   "execution_count": 21,
   "metadata": {},
   "outputs": [
    {
     "name": "stdout",
     "output_type": "stream",
     "text": [
      "[[1 2 3]\n",
      " [4 5 6]\n",
      " [7 8 9]]\n",
      "------\n",
      "[4]\n",
      "------\n",
      "[[ 5  6  7]\n",
      " [ 8  9 10]\n",
      " [11 12 13]]\n"
     ]
    }
   ],
   "source": [
    "#Operações com elementos unitários\n",
    "\n",
    "k1 = np.array([[1,2,3], [4,5,6], [7,8,9]])\n",
    "k2 = np.array([4])\n",
    "\n",
    "print(k1)\n",
    "print('------')\n",
    "print(k2)\n",
    "print('------')\n",
    "print(k1 + k2)"
   ]
  },
  {
   "cell_type": "code",
   "execution_count": 22,
   "metadata": {},
   "outputs": [
    {
     "name": "stdout",
     "output_type": "stream",
     "text": [
      "[[1 2 3]\n",
      " [4 5 6]\n",
      " [7 8 9]]\n",
      "------\n",
      "[1 2 3]\n",
      "------\n",
      "[[1]\n",
      " [2]\n",
      " [3]]\n",
      "------\n",
      "k1 + k2\n",
      "[[ 2  4  6]\n",
      " [ 5  7  9]\n",
      " [ 8 10 12]]\n",
      "k1 + k3\n",
      "[[ 2  3  4]\n",
      " [ 6  7  8]\n",
      " [10 11 12]]\n"
     ]
    }
   ],
   "source": [
    "#Operações entre uma matriz e uma coluna ou linha\n",
    "k1 = np.array([[1,2,3], [4,5,6], [7,8,9]])\n",
    "k2 = np.array([1,2,3]) #Linha\n",
    "k3 = np.array([[1], [2], [3]]) #Coluna. Tambem poderia ser np.transpose(k2)\n",
    "\n",
    "print(k1)\n",
    "print('------')\n",
    "print(k2)\n",
    "print('------')\n",
    "print(k3)\n",
    "print('------')\n",
    "print('k1 + k2')\n",
    "print(k1 + k2)\n",
    "print('k1 + k3')\n",
    "print(k1 + k3)"
   ]
  },
  {
   "cell_type": "markdown",
   "metadata": {},
   "source": [
    "<h2>Combinando matrizes em matrizes maiores</h2>"
   ]
  },
  {
   "cell_type": "code",
   "execution_count": 23,
   "metadata": {},
   "outputs": [
    {
     "name": "stdout",
     "output_type": "stream",
     "text": [
      "[1 2 3 4 5 6 7 8 9]\n",
      "-------\n",
      "[[1 2 3]\n",
      " [4 5 6]\n",
      " [7 8 9]]\n"
     ]
    }
   ],
   "source": [
    "k1 = np.array([1,2,3])\n",
    "k2 = np.array([4,5,6])\n",
    "k3 = np.array([7,8,9])\n",
    "\n",
    "print(np.hstack([k1, k2, k3]))\n",
    "print('-------')\n",
    "print(np.vstack([k1, k2, k3]))"
   ]
  },
  {
   "cell_type": "markdown",
   "metadata": {},
   "source": [
    "<h1>Matplotlib</h1>\n",
    "<br>\n",
    "Matplotlib é uma biblioteca que dá suporte à criação de gráficos de forma bem simples"
   ]
  },
  {
   "cell_type": "code",
   "execution_count": 25,
   "metadata": {},
   "outputs": [],
   "source": [
    "import matplotlib.pyplot as plt"
   ]
  },
  {
   "cell_type": "code",
   "execution_count": 32,
   "metadata": {},
   "outputs": [
    {
     "data": {
      "image/png": "[encoded data removed]",
      "text/plain": [
       "<Figure size 432x288 with 1 Axes>"
      ]
     },
     "metadata": {
      "needs_background": "light"
     },
     "output_type": "display_data"
    }
   ],
   "source": [
    "x = np.linspace(-40.0, 40.0, 100)\n",
    "y = [a**2 for a in x]\n",
    "\n",
    "plt.figure()\n",
    "plt.plot(x, y)\n",
    "plt.show(block=False)"
   ]
  },
  {
   "cell_type": "markdown",
   "metadata": {},
   "source": [
    "É possível também mudar a cor e o tipo da linha no gráfico"
   ]
  },
  {
   "cell_type": "code",
   "execution_count": 34,
   "metadata": {},
   "outputs": [
    {
     "data": {
      "image/png": "[encoded data removed]",
      "text/plain": [
       "<Figure size 432x288 with 1 Axes>"
      ]
     },
     "metadata": {
      "needs_background": "light"
     },
     "output_type": "display_data"
    },
    {
     "data": {
      "image/png": "[encoded data removed]",
      "text/plain": [
       "<Figure size 432x288 with 1 Axes>"
      ]
     },
     "metadata": {
      "needs_background": "light"
     },
     "output_type": "display_data"
    },
    {
     "data": {
      "image/png": "[encoded data removed]",
      "text/plain": [
       "<Figure size 432x288 with 1 Axes>"
      ]
     },
     "metadata": {
      "needs_background": "light"
     },
     "output_type": "display_data"
    }
   ],
   "source": [
    "plt.figure()\n",
    "plt.plot(x, y, '-r')\n",
    "\n",
    "plt.figure()\n",
    "plt.plot(x, y, '*m')\n",
    "\n",
    "plt.figure()\n",
    "plt.plot(x, y, 'ok')\n",
    "\n",
    "plt.show(block=False)"
   ]
  },
  {
   "cell_type": "markdown",
   "metadata": {},
   "source": [
    "Plotar dois gráficos em uma mesma figura também é bastante simples"
   ]
  },
  {
   "cell_type": "code",
   "execution_count": 37,
   "metadata": {},
   "outputs": [
    {
     "data": {
      "image/png": "[encoded data removed]",
      "text/plain": [
       "<Figure size 432x288 with 1 Axes>"
      ]
     },
     "metadata": {
      "needs_background": "light"
     },
     "output_type": "display_data"
    }
   ],
   "source": [
    "x = np.linspace(-1, 1, 100)\n",
    "y1 = [a**2 for a in x]\n",
    "y2 = [a**3 for a in x]\n",
    "\n",
    "plt.figure()\n",
    "plt.plot(x, y1, '-b')\n",
    "plt.plot(x, y2, '-r')\n",
    "plt.show(block=False)"
   ]
  },
  {
   "cell_type": "markdown",
   "metadata": {},
   "source": [
    "Existem comandos simples para adicionar anotações no gráfico"
   ]
  },
  {
   "cell_type": "code",
   "execution_count": 39,
   "metadata": {},
   "outputs": [
    {
     "data": {
      "image/png": "[encoded data removed]",
      "text/plain": [
       "<Figure size 432x288 with 1 Axes>"
      ]
     },
     "metadata": {
      "needs_background": "light"
     },
     "output_type": "display_data"
    }
   ],
   "source": [
    "x = np.linspace(-1, 1, 100)\n",
    "y1 = [a**2 for a in x]\n",
    "y2 = [a**3 for a in x]\n",
    "\n",
    "plt.figure()\n",
    "plt.title('Comparação entre gráficos')\n",
    "plt.ylabel('Eixo das ordenadas')\n",
    "plt.xlabel('Eixo das abscissas')\n",
    "plt.annotate('ponto zero', xy=(0,0))\n",
    "plt.plot(x, y1, '-b')\n",
    "plt.plot(x, y2, '-r')\n",
    "plt.show(block=False)"
   ]
  },
  {
   "cell_type": "markdown",
   "metadata": {},
   "source": [
    "Podem-se também criar gráficos do tipo scatter"
   ]
  },
  {
   "cell_type": "code",
   "execution_count": 40,
   "metadata": {},
   "outputs": [
    {
     "data": {
      "image/png": "[encoded data removed]",
      "text/plain": [
       "<Figure size 432x288 with 1 Axes>"
      ]
     },
     "metadata": {
      "needs_background": "light"
     },
     "output_type": "display_data"
    }
   ],
   "source": [
    "x = np.random.rand(10)\n",
    "y = np.random.rand(10)\n",
    "\n",
    "plt.figure()\n",
    "plt.scatter(x, y)\n",
    "plt.show()"
   ]
  },
  {
   "cell_type": "markdown",
   "metadata": {},
   "source": [
    "Também é possível criar histogramas"
   ]
  },
  {
   "cell_type": "code",
   "execution_count": 46,
   "metadata": {},
   "outputs": [
    {
     "data": {
      "image/png": "[encoded data removed]",
      "text/plain": [
       "<Figure size 432x288 with 1 Axes>"
      ]
     },
     "metadata": {
      "needs_background": "light"
     },
     "output_type": "display_data"
    }
   ],
   "source": [
    "x = np.random.randn(100)\n",
    "plt.figure()\n",
    "plt.hist(x, bins=np.linspace(-3, 3, 10))\n",
    "plt.show()"
   ]
  },
  {
   "cell_type": "markdown",
   "metadata": {},
   "source": [
    "<h1>Atividade 1: Resolva o sistema de equações a seguir usando Numpy</h1>\n",
    "\n",
    "2.3x + 4y + 5z = 1\n",
    "\n",
    "3x + 5y + 6z = 4\n",
    "\n",
    "1.7x + 7y + 3z = 9"
   ]
  },
  {
   "cell_type": "code",
   "execution_count": null,
   "metadata": {},
   "outputs": [],
   "source": []
  },
  {
   "cell_type": "markdown",
   "metadata": {},
   "source": [
    "<h1>Atividade 2: Trace o gráfico da seguinte função</h1>\n",
    "\n",
    "y = sqrt(x) + log10(x)"
   ]
  },
  {
   "cell_type": "code",
   "execution_count": 11,
   "metadata": {},
   "outputs": [
    {
     "name": "stdout",
     "output_type": "stream",
     "text": [
      "2.0\n",
      "2.0\n"
     ]
    }
   ],
   "source": [
    "#Dica\n",
    "\n",
    "import math as m\n",
    "\n",
    "print(m.sqrt(4))\n",
    "print(m.log10(100))"
   ]
  },
  {
   "cell_type": "code",
   "execution_count": null,
   "metadata": {},
   "outputs": [],
   "source": []
  }
 ],
 "metadata": {
  "kernelspec": {
   "display_name": "Python 3",
   "language": "python",
   "name": "python3"
  },
  "language_info": {
   "codemirror_mode": {
    "name": "ipython",
    "version": 3
   },
   "file_extension": ".py",
   "mimetype": "text/x-python",
   "name": "python",
   "nbconvert_exporter": "python",
   "pygments_lexer": "ipython3",
   "version": "3.7.0"
  }
 },
 "nbformat": 4,
 "nbformat_minor": 2
}
