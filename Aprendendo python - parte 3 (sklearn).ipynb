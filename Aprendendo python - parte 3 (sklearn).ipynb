{
 "cells": [
  {
   "cell_type": "markdown",
   "metadata": {},
   "source": [
    "<h1>Sklearn</h1>\n",
    "<br>\n",
    "O sklearn é uma das principais bibliotecas para aprendizagem de máquinas em Python. Os algorítmos mais populares possuem implementações nessa biblioteca, com excessão de técnicas que envolvam <i>Deep Learning</i>. Para tal, utilize bibliotecas como o <b>Tensorflow</b> ou <b>Pytorch</b>"
   ]
  },
  {
   "cell_type": "code",
   "execution_count": 1,
   "metadata": {},
   "outputs": [],
   "source": [
    "# -*- coding: utf-8 -*-"
   ]
  },
  {
   "cell_type": "markdown",
   "metadata": {},
   "source": [
    "<h2>Base de dados de teste</h2>\n",
    "<br>\n",
    "Para fins de teste, usaremos alguns conjuntos de dados teste que já estão disponíveis no sklearn. Inicialmente usaremos o iris dataset, que contém dados para a classificação de flores.\n",
    "<br>\n",
    "<img src=\"https://upload.wikimedia.org/wikipedia/commons/thumb/4/41/Iris_versicolor_3.jpg/1920px-Iris_versicolor_3.jpg\" height=\"500\" width=\"500\">\n",
    "<i>Fonte da imagem: Wikipedia: https://upload.wikimedia.org/wikipedia/commons/thumb/4/41/Iris_versicolor_3.jpg/1920px-Iris_versicolor_3.jpg</i>"
   ]
  },
  {
   "cell_type": "code",
   "execution_count": 6,
   "metadata": {},
   "outputs": [
    {
     "name": "stdout",
     "output_type": "stream",
     "text": [
      "SHAPE X (150, 4)\n",
      "SHAPE Y (150,)\n",
      "TAG SET {0, 1, 2}\n"
     ]
    }
   ],
   "source": [
    "from sklearn import datasets\n",
    "import numpy as np\n",
    "\n",
    "iris = datasets.load_iris()\n",
    "X = iris.data\n",
    "Y = iris.target\n",
    "\n",
    "print('SHAPE X', np.shape(X))\n",
    "print('SHAPE Y', np.shape(Y))\n",
    "\n",
    "tag_set = set(Y)\n",
    "print('TAG SET', tag_set)"
   ]
  },
  {
   "cell_type": "markdown",
   "metadata": {},
   "source": [
    "<h2>Criando conjuntos de treinamento, teste e validação</h2>"
   ]
  },
  {
   "cell_type": "code",
   "execution_count": 9,
   "metadata": {},
   "outputs": [
    {
     "name": "stdout",
     "output_type": "stream",
     "text": [
      "SHAPE X_train_test (105, 4)\n",
      "SHAPE X_test (45, 4)\n",
      "SET Y_train {0, 1, 2}\n",
      "SET Y_test {0, 1, 2}\n",
      "SHAPE train (84, 4)\n",
      "SHAPE validation (21, 4)\n",
      "SHAPE test (45, 4)\n"
     ]
    }
   ],
   "source": [
    "from sklearn.model_selection import train_test_split\n",
    "\n",
    "\n",
    "X_train_initial, X_test, Y_train_initial, Y_test = train_test_split(X, Y, \n",
    "                                                                    test_size=0.30, \n",
    "                                                                    stratify=Y,\n",
    "                                                                    shuffle=True)\n",
    "\n",
    "print('SHAPE X_train_test', np.shape(X_train_initial))\n",
    "print('SHAPE X_test', np.shape(X_test))\n",
    "print('SET Y_train', set(Y_train_initial))\n",
    "print('SET Y_test', set(Y_test))\n",
    "\n",
    "X_train, X_validation, Y_train, Y_validation = train_test_split(X_train_initial, Y_train_initial, \n",
    "                                                                test_size=0.2, \n",
    "                                                                stratify=Y_train_initial,\n",
    "                                                                shuffle=True)\n",
    "\n",
    "print('SHAPE train', np.shape(X_train))\n",
    "print('SHAPE validation', np.shape(X_validation))\n",
    "print('SHAPE test', np.shape(X_test))"
   ]
  },
  {
   "cell_type": "markdown",
   "metadata": {},
   "source": [
    "<h2>Testando classificadores no conjunto de validação e no conjunto de teste</h2>"
   ]
  },
  {
   "cell_type": "code",
   "execution_count": 11,
   "metadata": {},
   "outputs": [
    {
     "name": "stdout",
     "output_type": "stream",
     "text": [
      "GaussianNB - acuracia no conjunto de validacao 0.8571428571428571\n",
      "BernoulliNB - acuracia no conjunto de validacao 0.3333333333333333\n",
      "GaussianNB - acuracia no conjunto de teste 0.9555555555555556\n"
     ]
    }
   ],
   "source": [
    "from sklearn.naive_bayes import GaussianNB\n",
    "from sklearn.naive_bayes import BernoulliNB\n",
    "\n",
    "model_1 = GaussianNB()\n",
    "model_1.fit(X_train, Y_train)\n",
    "\n",
    "model_2 = BernoulliNB()\n",
    "model_2.fit(X_train, Y_train)\n",
    "\n",
    "accuracy_validation_1 = model_1.score(X_validation, Y_validation)\n",
    "accuracy_validation_2 = model_2.score(X_validation, Y_validation)\n",
    "\n",
    "print('GaussianNB - acuracia no conjunto de validacao', accuracy_validation_1)\n",
    "print('BernoulliNB - acuracia no conjunto de validacao', accuracy_validation_2)\n",
    "\n",
    "#Para testar o segundo classificador\n",
    "#accuracy_validation_2 = 1.0\n",
    "\n",
    "if accuracy_validation_1 > accuracy_validation_2:\n",
    "    accuracy_test = model_1.score(X_test, Y_test)\n",
    "    print('GaussianNB - acuracia no conjunto de teste', accuracy_test)\n",
    "else:\n",
    "    accuracy_test = model_2.score(X_test, Y_test)\n",
    "    print('BernoulliNB - acuracia no conjunto de teste', accuracy_test)"
   ]
  },
  {
   "cell_type": "markdown",
   "metadata": {},
   "source": [
    "<h2>Calculando as demais métricas dos classificadores</h2>"
   ]
  },
  {
   "cell_type": "code",
   "execution_count": 13,
   "metadata": {},
   "outputs": [
    {
     "name": "stdout",
     "output_type": "stream",
     "text": [
      "Precisao do GaussianNB por classe [1.         0.93333333 0.93333333]\n",
      "Precisao do GaussianNB na media 0.9555555555555556\n",
      "Precisao do BernoulliNB por classe [0.33333333 0.         0.        ]\n",
      "Precisao do BernoulliNB na media 0.1111111111111111\n",
      "Recall do GaussianNB por classe [1.         0.93333333 0.93333333]\n",
      "Recall do GaussianNB na media 0.9555555555555556\n",
      "Recall do BernoulliNB por classe [1. 0. 0.]\n",
      "Recall do BernoulliNB na media 0.3333333333333333\n",
      "Matriz de confusao - GaussianNB\n",
      " [[15  0  0]\n",
      " [ 0 14  1]\n",
      " [ 0  1 14]]\n",
      "Matriz de confusao - BernoulliNB\n",
      " [[15  0  0]\n",
      " [15  0  0]\n",
      " [15  0  0]]\n"
     ]
    },
    {
     "name": "stderr",
     "output_type": "stream",
     "text": [
      "/Users/fnba/anaconda3/lib/python3.7/site-packages/sklearn/metrics/classification.py:1135: UndefinedMetricWarning: Precision is ill-defined and being set to 0.0 in labels with no predicted samples.\n",
      "  'precision', 'predicted', average, warn_for)\n"
     ]
    }
   ],
   "source": [
    "from sklearn.metrics import precision_score\n",
    "from sklearn.metrics import recall_score\n",
    "from sklearn.metrics import confusion_matrix\n",
    "\n",
    "Y_pred_1 = model_1.predict(X_test)\n",
    "Y_pred_2 = model_2.predict(X_test)\n",
    "\n",
    "precision_1 = precision_score(Y_test, Y_pred_1, average=None)\n",
    "precision_1_average = precision_score(Y_test, Y_pred_1, average='weighted')\n",
    "print('Precisao do GaussianNB por classe', precision_1)\n",
    "print('Precisao do GaussianNB na media', precision_1_average)\n",
    "\n",
    "precision_2 = precision_score(Y_test, Y_pred_2, average=None)\n",
    "precision_2_average = precision_score(Y_test, Y_pred_2, average='weighted')\n",
    "print('Precisao do BernoulliNB por classe', precision_2)\n",
    "print('Precisao do BernoulliNB na media', precision_2_average)\n",
    "\n",
    "recall_1 = recall_score(Y_test, Y_pred_1, average=None)\n",
    "recall_1_average = recall_score(Y_test, Y_pred_1, average='weighted')\n",
    "print('Recall do GaussianNB por classe', recall_1)\n",
    "print('Recall do GaussianNB na media', recall_1_average)\n",
    "\n",
    "recall_2 = recall_score(Y_test, Y_pred_2, average=None)\n",
    "recall_2_average = recall_score(Y_test, Y_pred_2, average='weighted')\n",
    "print('Recall do BernoulliNB por classe', recall_2)\n",
    "print('Recall do BernoulliNB na media', recall_2_average)\n",
    "\n",
    "cm_1 = confusion_matrix(Y_test, Y_pred_1)\n",
    "print('Matriz de confusao - GaussianNB\\n', cm_1)\n",
    "\n",
    "cm_2 = confusion_matrix(Y_test, Y_pred_2)\n",
    "print('Matriz de confusao - BernoulliNB\\n', cm_2)"
   ]
  },
  {
   "cell_type": "markdown",
   "metadata": {},
   "source": [
    "<h1>Atividade: Teste diversos classificadores utilizando o digits dataset</h1>\n",
    "<br>\n",
    "<img src=\"https://upload.wikimedia.org/wikipedia/commons/2/27/MnistExamples.png\" height=\"500\" width=\"500\">\n",
    "<i>Fonte da imagem: Wikipedia: https://upload.wikimedia.org/wikipedia/commons/2/27/MnistExamples.png</i>\n",
    "<br>\n",
    "<h4>Pesquisar classificadores aqui:</h4>\n",
    "<a href=\"https://scikit-learn.org/stable/supervised_learning.html\" target=\"_blank\">Referência do sklearn</a>\n",
    "    "
   ]
  },
  {
   "cell_type": "code",
   "execution_count": 15,
   "metadata": {},
   "outputs": [
    {
     "name": "stdout",
     "output_type": "stream",
     "text": [
      "SHAPE X (1797, 64)\n",
      "SHAPE Y (1797,)\n",
      "TAG SET {0, 1, 2, 3, 4, 5, 6, 7, 8, 9}\n"
     ]
    }
   ],
   "source": [
    "iris = datasets.load_digits()\n",
    "X = iris.data\n",
    "Y = iris.target\n",
    "\n",
    "print('SHAPE X', np.shape(X))\n",
    "print('SHAPE Y', np.shape(Y))\n",
    "\n",
    "tag_set = set(Y)\n",
    "print('TAG SET', tag_set)\n"
   ]
  },
  {
   "cell_type": "markdown",
   "metadata": {},
   "source": [
    "<h1>Exemplo de classificação de texto com Sklearn</h1>"
   ]
  },
  {
   "cell_type": "code",
   "execution_count": null,
   "metadata": {},
   "outputs": [],
   "source": []
  }
 ],
 "metadata": {
  "kernelspec": {
   "display_name": "Python 3",
   "language": "python",
   "name": "python3"
  },
  "language_info": {
   "codemirror_mode": {
    "name": "ipython",
    "version": 3
   },
   "file_extension": ".py",
   "mimetype": "text/x-python",
   "name": "python",
   "nbconvert_exporter": "python",
   "pygments_lexer": "ipython3",
   "version": "3.7.0"
  }
 },
 "nbformat": 4,
 "nbformat_minor": 2
}
