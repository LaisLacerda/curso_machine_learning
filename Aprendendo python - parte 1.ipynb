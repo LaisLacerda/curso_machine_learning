{
 "cells": [
  {
   "cell_type": "markdown",
   "metadata": {},
   "source": [
    "<h1>Aprendendo Python</h1>\n",
    "\n",
    "Tipos de dados, variáveis e operadores"
   ]
  },
  {
   "cell_type": "code",
   "execution_count": 28,
   "metadata": {},
   "outputs": [],
   "source": [
    "# -*- coding: utf-8 -*-\n",
    "\n",
    "a = 1 #Variavel inteira\n",
    "b = 2.3 #Variavel de ponto flutuante\n",
    "c = \"sou uma variavel textual\"\n",
    "d = 'tambem sou uma variavel textual'\n",
    "my_list = [1,2,3,4,5,6,7] #Uma lista"
   ]
  },
  {
   "cell_type": "markdown",
   "metadata": {},
   "source": [
    "Os operadores de python são\n",
    "\n",
    "\\+  Soma e concatenacao de strings e listas<br>\n",
    "\\* Multiplicação <br>\n",
    "\\-  Subtracao <br>\n",
    "/  Divisao <br>\n",
    "//  Divisao inteira <br>\n",
    "%  Resto da divisão inteira <br>\n",
    "\\== igualdade condicional <br>\n",
    "\\!= desigualdade condicional <br>\n",
    "\\= atribuição <br>\n",
    "\\+= atribuição com incremento <br>\n",
    "\\-= atribuicao com decremento <br>\n",
    "\\> < >= <= comparativos de grandeza"
   ]
  },
  {
   "cell_type": "code",
   "execution_count": 23,
   "metadata": {},
   "outputs": [
    {
     "name": "stdout",
     "output_type": "stream",
     "text": [
      "3.3\n"
     ]
    }
   ],
   "source": [
    "a + b #A conversao entre tipos numéricos é feita automaticamente quando possível\n",
    "print(a + b)"
   ]
  },
  {
   "cell_type": "markdown",
   "metadata": {},
   "source": [
    "No Python 3.x, a divisão numérica é por default de ponto flutuante. No Python 2.x, ela é por default inteira, de forma que uma das variáveis deve ser float para que o resultado também seja"
   ]
  },
  {
   "cell_type": "code",
   "execution_count": 18,
   "metadata": {},
   "outputs": [
    {
     "name": "stdout",
     "output_type": "stream",
     "text": [
      "0.6666666666666666\n"
     ]
    }
   ],
   "source": [
    "division_float = 2/3 #No python 3, a divisao por default é de ponto flutuante\n",
    "print (division_float)"
   ]
  },
  {
   "cell_type": "markdown",
   "metadata": {},
   "source": [
    "Caso se deseje uma divisão inteira em python 3, utilize o operador //"
   ]
  },
  {
   "cell_type": "code",
   "execution_count": 22,
   "metadata": {},
   "outputs": [
    {
     "name": "stdout",
     "output_type": "stream",
     "text": [
      "0\n"
     ]
    }
   ],
   "source": [
    "division_int = 2//3\n",
    "print (division_int)"
   ]
  },
  {
   "cell_type": "markdown",
   "metadata": {},
   "source": [
    "<h2>Arrays em Python</h2>"
   ]
  },
  {
   "cell_type": "markdown",
   "metadata": {},
   "source": [
    "O operador multiplicação pode ser utilizado em listas também"
   ]
  },
  {
   "cell_type": "code",
   "execution_count": 25,
   "metadata": {},
   "outputs": [
    {
     "name": "stdout",
     "output_type": "stream",
     "text": [
      "[1, 2, 3, 4, 1, 2, 3, 4]\n"
     ]
    }
   ],
   "source": [
    "k = [1, 2, 3, 4]\n",
    "print(k*2)"
   ]
  },
  {
   "cell_type": "markdown",
   "metadata": {},
   "source": [
    "Da mesma forma, o operador soma"
   ]
  },
  {
   "cell_type": "code",
   "execution_count": 26,
   "metadata": {},
   "outputs": [
    {
     "name": "stdout",
     "output_type": "stream",
     "text": [
      "[1, 2, 3, 4, 5, 6]\n"
     ]
    }
   ],
   "source": [
    "a = [1, 2, 3]\n",
    "b = [4, 5, 6]\n",
    "\n",
    "print(a + b)"
   ]
  },
  {
   "cell_type": "markdown",
   "metadata": {},
   "source": [
    "<h3>List comprehension</h3>\n",
    "<br>\n",
    "Listas em python podem ser transformadas em outras listas de forma bastante simples"
   ]
  },
  {
   "cell_type": "code",
   "execution_count": 34,
   "metadata": {},
   "outputs": [
    {
     "name": "stdout",
     "output_type": "stream",
     "text": [
      "[2, 4, 6, 8]\n"
     ]
    }
   ],
   "source": [
    "a = [1,2,3,4]\n",
    "b = [2*x for x in a] #Crie uma lista onde os elementos são o dobro dos correspondentes em a\n",
    "print(b)"
   ]
  },
  {
   "cell_type": "markdown",
   "metadata": {},
   "source": [
    "List comprehensions podem filtrar dados tambem"
   ]
  },
  {
   "cell_type": "code",
   "execution_count": 36,
   "metadata": {},
   "outputs": [
    {
     "name": "stdout",
     "output_type": "stream",
     "text": [
      "[4, 8]\n"
     ]
    }
   ],
   "source": [
    "#Crie uma lista onde os elementos são o dobro dos correspondentes em a, mas apenas com os pares\n",
    "c = [2*x for x in a if x % 2 == 0]\n",
    "print(c)"
   ]
  },
  {
   "cell_type": "markdown",
   "metadata": {},
   "source": [
    "List comprehensions podem ser aplicados de forma aninhada"
   ]
  },
  {
   "cell_type": "code",
   "execution_count": 39,
   "metadata": {},
   "outputs": [
    {
     "name": "stdout",
     "output_type": "stream",
     "text": [
      "[[3, 1], [3, 7, 20, 1]]\n"
     ]
    }
   ],
   "source": [
    "list1 = [3, 7, 60, 20, 1]\n",
    "thresholds = [5, 30]\n",
    "filtered_lists = [[y for y in list1 if y < t] for t in thresholds]\n",
    "print(filtered_lists)"
   ]
  },
  {
   "cell_type": "markdown",
   "metadata": {},
   "source": [
    "Listas podem ser ordenadas a partir do comando sorted"
   ]
  },
  {
   "cell_type": "code",
   "execution_count": 41,
   "metadata": {},
   "outputs": [
    {
     "name": "stdout",
     "output_type": "stream",
     "text": [
      "[2, 3, 10, 15]\n",
      "[15, 10, 3, 2]\n"
     ]
    }
   ],
   "source": [
    "k = [10, 2, 15, 3]\n",
    "sorted_k = sorted(k)\n",
    "sorted_k_r = sorted(k, reverse=True)\n",
    "print(sorted_k)\n",
    "print(sorted_k_r)"
   ]
  },
  {
   "cell_type": "markdown",
   "metadata": {},
   "source": [
    "É possível ordenar uma lista por critérios arbitrários"
   ]
  },
  {
   "cell_type": "code",
   "execution_count": 43,
   "metadata": {},
   "outputs": [
    {
     "name": "stdout",
     "output_type": "stream",
     "text": [
      "[[1], [1, 2], [1, 2, 3]]\n"
     ]
    }
   ],
   "source": [
    "list_of_lists = [[1,2,3], [1], [1,2]]\n",
    "sorted_by_len = sorted(list_of_lists, key=lambda x: len(x))\n",
    "print(sorted_by_len)"
   ]
  },
  {
   "cell_type": "markdown",
   "metadata": {},
   "source": [
    "Listas em python são como pilhas. Podem ser incrementadas com o comando append e possuem o método pop"
   ]
  },
  {
   "cell_type": "code",
   "execution_count": 45,
   "metadata": {},
   "outputs": [
    {
     "name": "stdout",
     "output_type": "stream",
     "text": [
      "[1, 2, 3]\n",
      "[1, 2] 3\n"
     ]
    }
   ],
   "source": [
    "k=[1,2]\n",
    "k.append(3)\n",
    "print(k)\n",
    "y = k.pop()\n",
    "print(k, y)"
   ]
  },
  {
   "cell_type": "markdown",
   "metadata": {},
   "source": [
    "Python também possui formas flexíveis de acessar os elementos de um array"
   ]
  },
  {
   "cell_type": "code",
   "execution_count": 49,
   "metadata": {},
   "outputs": [
    {
     "name": "stdout",
     "output_type": "stream",
     "text": [
      "3\n",
      "6\n",
      "[3, 4, 5, 6, 7]\n",
      "[1, 2]\n",
      "[3, 4, 5]\n"
     ]
    }
   ],
   "source": [
    "k = [1,2,3,4,5,6,7]\n",
    "print(k[2]) #Index normal\n",
    "print(k[-2]) #Index invertido\n",
    "print(k[2:]) #Do 2 em diante\n",
    "print(k[:2]) #Até o 2 (exclusive)\n",
    "print(k[2:5]) #Do 2 ao 5 (exclusive)"
   ]
  },
  {
   "cell_type": "markdown",
   "metadata": {},
   "source": [
    "Checar se um elemento está dentro de uma lista é trivial"
   ]
  },
  {
   "cell_type": "code",
   "execution_count": 61,
   "metadata": {},
   "outputs": [
    {
     "name": "stdout",
     "output_type": "stream",
     "text": [
      "True\n",
      "False\n"
     ]
    }
   ],
   "source": [
    "print(2 in [1,2,3])\n",
    "print(4 in [1,2,3])"
   ]
  },
  {
   "cell_type": "markdown",
   "metadata": {},
   "source": [
    "<h2>Dicionários em Python</h2>\n",
    "<br>\n",
    "Python também possui estruturas indexadas chamadas dicionários, que são como hash tables"
   ]
  },
  {
   "cell_type": "code",
   "execution_count": 50,
   "metadata": {},
   "outputs": [
    {
     "name": "stdout",
     "output_type": "stream",
     "text": [
      "{'chave 1': 1, 'chave 2': [2, 3], 'chave 3': {'1': 12, '3': 4}}\n",
      "1\n",
      "True\n",
      "False\n"
     ]
    }
   ],
   "source": [
    "my_dic = {}\n",
    "my_dic['chave 1'] = 1\n",
    "my_dic['chave 2'] = [2,3] #Tipos diferentes podem ser guardados. Mas as chaves são strings\n",
    "my_dic['chave 3'] = {'1': 12, '3': 4}\n",
    "print(my_dic)\n",
    "print(my_dic['chave 1'])\n",
    "print('chave 2' in my_dic) #Checando a existência de uma chave\n",
    "print('chave 4' in my_dic)"
   ]
  },
  {
   "cell_type": "markdown",
   "metadata": {},
   "source": [
    "<h2>Tuplas e listas</h2>\n",
    "<br>\n",
    "Tuplas são listas imutáveis"
   ]
  },
  {
   "cell_type": "code",
   "execution_count": 51,
   "metadata": {},
   "outputs": [
    {
     "name": "stdout",
     "output_type": "stream",
     "text": [
      "[1, 2, 3, 4]\n"
     ]
    }
   ],
   "source": [
    "a = [1,2,3]\n",
    "a.append(4)\n",
    "print(a)"
   ]
  },
  {
   "cell_type": "code",
   "execution_count": 52,
   "metadata": {},
   "outputs": [
    {
     "ename": "AttributeError",
     "evalue": "'tuple' object has no attribute 'append'",
     "output_type": "error",
     "traceback": [
      "\u001b[0;31m---------------------------------------------------------------------------\u001b[0m",
      "\u001b[0;31mAttributeError\u001b[0m                            Traceback (most recent call last)",
      "\u001b[0;32m<ipython-input-52-a025f2c6b216>\u001b[0m in \u001b[0;36m<module>\u001b[0;34m()\u001b[0m\n\u001b[1;32m      1\u001b[0m \u001b[0ma\u001b[0m \u001b[0;34m=\u001b[0m \u001b[0;34m(\u001b[0m\u001b[0;36m1\u001b[0m\u001b[0;34m,\u001b[0m\u001b[0;36m2\u001b[0m\u001b[0;34m,\u001b[0m\u001b[0;36m3\u001b[0m\u001b[0;34m)\u001b[0m\u001b[0;34m\u001b[0m\u001b[0m\n\u001b[0;32m----> 2\u001b[0;31m \u001b[0ma\u001b[0m\u001b[0;34m.\u001b[0m\u001b[0mappend\u001b[0m\u001b[0;34m(\u001b[0m\u001b[0;36m4\u001b[0m\u001b[0;34m)\u001b[0m\u001b[0;34m\u001b[0m\u001b[0m\n\u001b[0m\u001b[1;32m      3\u001b[0m \u001b[0mprint\u001b[0m\u001b[0;34m(\u001b[0m\u001b[0ma\u001b[0m\u001b[0;34m)\u001b[0m\u001b[0;34m\u001b[0m\u001b[0m\n",
      "\u001b[0;31mAttributeError\u001b[0m: 'tuple' object has no attribute 'append'"
     ]
    }
   ],
   "source": [
    "a = (1,2,3)\n",
    "a.append(4)\n",
    "print(a)"
   ]
  },
  {
   "cell_type": "markdown",
   "metadata": {},
   "source": [
    "<h2>Condicionais, loops, blocos e funcoes</h2>\n",
    "<br>\n",
    "Os blocos em python usam indentação como delimitação"
   ]
  },
  {
   "cell_type": "code",
   "execution_count": 54,
   "metadata": {},
   "outputs": [
    {
     "name": "stdout",
     "output_type": "stream",
     "text": [
      "Eh par\n",
      "--------\n",
      "Nao eh 3 mas eh par\n"
     ]
    }
   ],
   "source": [
    "a = 2\n",
    "\n",
    "if a % 2 == 0:\n",
    "    print('Eh par')\n",
    "else:\n",
    "    print('Eh impar')\n",
    "\n",
    "print('--------')\n",
    "\n",
    "if a == 3:\n",
    "    print('Nao eh 3')\n",
    "elif a % 2 == 0:\n",
    "    print('Nao eh 3 mas eh par')\n",
    "else:\n",
    "    print('Nao eh 3 e eh impar')"
   ]
  },
  {
   "cell_type": "code",
   "execution_count": 55,
   "metadata": {},
   "outputs": [
    {
     "name": "stdout",
     "output_type": "stream",
     "text": [
      "3\n",
      "4\n",
      "5\n",
      "6\n"
     ]
    }
   ],
   "source": [
    "#Loop for\n",
    "\n",
    "k = [3,4,5, 6]\n",
    "\n",
    "for x in k:\n",
    "    print(x)\n"
   ]
  },
  {
   "cell_type": "code",
   "execution_count": 56,
   "metadata": {},
   "outputs": [
    {
     "name": "stdout",
     "output_type": "stream",
     "text": [
      "0\n",
      "1\n",
      "2\n",
      "3\n",
      "4\n"
     ]
    }
   ],
   "source": [
    "for x in range(5):\n",
    "    print(x)"
   ]
  },
  {
   "cell_type": "code",
   "execution_count": 57,
   "metadata": {},
   "outputs": [
    {
     "name": "stdout",
     "output_type": "stream",
     "text": [
      "9\n",
      "8\n",
      "7\n",
      "6\n",
      "5\n",
      "4\n",
      "3\n",
      "2\n",
      "1\n",
      "0\n"
     ]
    }
   ],
   "source": [
    "#Loop while\n",
    "x = 10\n",
    "while x > 0:\n",
    "    x -= 1\n",
    "    print(x)"
   ]
  },
  {
   "cell_type": "code",
   "execution_count": 59,
   "metadata": {},
   "outputs": [
    {
     "name": "stdout",
     "output_type": "stream",
     "text": [
      "2\n"
     ]
    }
   ],
   "source": [
    "#Para definir uma funcao, use a palavra chave def\n",
    "def incr(x):\n",
    "    return x + 1 \n",
    "\n",
    "print(incr(1))"
   ]
  },
  {
   "cell_type": "code",
   "execution_count": 63,
   "metadata": {},
   "outputs": [
    {
     "name": "stdout",
     "output_type": "stream",
     "text": [
      "2\n",
      "(2, 0)\n"
     ]
    }
   ],
   "source": [
    "#Funcoes podem retornar mais de um valor e ter parametros nomeados com valores default\n",
    "def incr(x, also_decrement=False):\n",
    "    if not also_decrement:\n",
    "        return x + 1\n",
    "    else:\n",
    "        return x + 1, x - 1\n",
    "\n",
    "print(incr(1))\n",
    "print(incr(1, also_decrement=True))"
   ]
  },
  {
   "cell_type": "markdown",
   "metadata": {},
   "source": [
    "funcoes podem ser passadas como parametro (ponteiro de funcoes)"
   ]
  },
  {
   "cell_type": "code",
   "execution_count": 64,
   "metadata": {},
   "outputs": [
    {
     "name": "stdout",
     "output_type": "stream",
     "text": [
      "2\n"
     ]
    }
   ],
   "source": [
    "def incr(x):\n",
    "    return x + 1\n",
    "\n",
    "def make_operation_and_print(x, operation):\n",
    "    y = operation(x)\n",
    "    print(y)\n",
    "\n",
    "make_operation_and_print(1, incr)"
   ]
  },
  {
   "cell_type": "code",
   "execution_count": null,
   "metadata": {},
   "outputs": [],
   "source": []
  }
 ],
 "metadata": {
  "kernelspec": {
   "display_name": "Python 3",
   "language": "python",
   "name": "python3"
  },
  "language_info": {
   "codemirror_mode": {
    "name": "ipython",
    "version": 3
   },
   "file_extension": ".py",
   "mimetype": "text/x-python",
   "name": "python",
   "nbconvert_exporter": "python",
   "pygments_lexer": "ipython3",
   "version": "3.7.0"
  }
 },
 "nbformat": 4,
 "nbformat_minor": 2
}
